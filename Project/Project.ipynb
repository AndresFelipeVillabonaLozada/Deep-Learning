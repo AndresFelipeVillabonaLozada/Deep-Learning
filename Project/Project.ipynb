{
 "cells": [
  {
   "cell_type": "markdown",
   "metadata": {},
   "source": [
    "# Ghouls, Goblins, and Ghosts... Boo!\n",
    "**____________________________________________________________**\n",
    "Get out your dowsing rods, electromagnetic sensors, … and gradient boosting machines. Kaggle is haunted and we need your help. After a month of making scientific observations and taking careful measurements, we’ve determined that 900 ghouls, ghosts, and goblins are infesting our halls and frightening our data scientists. When trying garlic, asking politely, and using reverse psychology didn't work, it became clear that machine learning is the only answer to banishing our unwanted guests.\n",
    "\n",
    "So now the hour has come to put the data we’ve collected in your hands. We’ve managed to identify 371 of the ghastly creatures, but need your help to vanquish the rest. And only an accurate classification algorithm can thwart them. Use bone length measurements, severity of rot, extent of soullessness, and other characteristics to distinguish (and extinguish) the intruders. Are you ghost-busters up for the challenge?"
   ]
  },
  {
   "cell_type": "markdown",
   "metadata": {},
   "source": [
    "# Ghouls\n",
    "<img src=\"Ghouls.png\", width=200, height=200>"
   ]
  },
  {
   "cell_type": "markdown",
   "metadata": {},
   "source": [
    "# Goblins\n",
    "<img src=\"Goblins.jpg\", width=200, height=200>"
   ]
  },
  {
   "cell_type": "markdown",
   "metadata": {},
   "source": [
    "# Ghosts\n",
    "<img src=\"Ghosts.png\", width=200, height=200>"
   ]
  },
  {
   "cell_type": "markdown",
   "metadata": {},
   "source": [
    "# Desarrollo de la competencia "
   ]
  },
  {
   "cell_type": "markdown",
   "metadata": {},
   "source": [
    "Las variables de la base de datos son las siguientes:"
   ]
  },
  {
   "cell_type": "markdown",
   "metadata": {},
   "source": [
    "* bone_length: longitud promedio del hueso en la criatura, normalizada entre 0 y 1\n",
    "* rotting_flesh - porcentaje de carne podrida en la criatura\n",
    "* hair_length - longitud promedio del cabello, normalizada entre 0 y 1\n",
    "* has_soul - porcentaje de alma en la criatura\n",
    "* color (dominante de la criatura): 'blanco', 'negro', 'claro', 'azul', 'verde', 'sangre'\n",
    "* tipo - (variable de interés): 'Fantasma', 'Duende' y 'Ghoul'"
   ]
  },
  {
   "cell_type": "markdown",
   "metadata": {},
   "source": [
    "## Preparación de los datos\n",
    "\n",
    "\"Realizar procesos de limpieza que incluyen el tratamiento de Missing values y/o Outliers, manejo de\n",
    "características categóricas\""
   ]
  },
  {
   "cell_type": "markdown",
   "metadata": {},
   "source": [
    "* **Cargue de la base de Train** "
   ]
  },
  {
   "cell_type": "code",
   "execution_count": 58,
   "metadata": {},
   "outputs": [
    {
     "name": "stdout",
     "output_type": "stream",
     "text": [
      "Tamaño de la base de Train\n",
      "(371, 7)\n"
     ]
    }
   ],
   "source": [
    "import pandas as pd\n",
    "import zipfile\n",
    "with zipfile.ZipFile('C:/Users/429331/Desktop/PERSONAL/MAESTRIA/21 DEEP LEARNING/PROYECTO NUEVO/Project/train.csv.zip', 'r') as z:\n",
    "#with zipfile.ZipFile('C:/Users/AsusPC/Documents/Analytics/2018-Vacacional/DeepLearning/Project/train.csv.zip', 'r') as z:\n",
    "    f = z.open('train.csv')\n",
    "    train = pd.io.parsers.read_table(f, sep=',')\n",
    "    \n",
    "print(\"Tamaño de la base de Train\")\n",
    "print(train.shape)"
   ]
  },
  {
   "cell_type": "markdown",
   "metadata": {},
   "source": [
    "* **Visualización del data frame**\n",
    "\n",
    "Se identifican las variables que tiene incluidas la base de Train:"
   ]
  },
  {
   "cell_type": "code",
   "execution_count": 59,
   "metadata": {
    "scrolled": false
   },
   "outputs": [
    {
     "data": {
      "text/html": [
       "<div>\n",
       "<style>\n",
       "    .dataframe thead tr:only-child th {\n",
       "        text-align: right;\n",
       "    }\n",
       "\n",
       "    .dataframe thead th {\n",
       "        text-align: left;\n",
       "    }\n",
       "\n",
       "    .dataframe tbody tr th {\n",
       "        vertical-align: top;\n",
       "    }\n",
       "</style>\n",
       "<table border=\"1\" class=\"dataframe\">\n",
       "  <thead>\n",
       "    <tr style=\"text-align: right;\">\n",
       "      <th></th>\n",
       "      <th>id</th>\n",
       "      <th>bone_length</th>\n",
       "      <th>rotting_flesh</th>\n",
       "      <th>hair_length</th>\n",
       "      <th>has_soul</th>\n",
       "      <th>color</th>\n",
       "      <th>type</th>\n",
       "    </tr>\n",
       "  </thead>\n",
       "  <tbody>\n",
       "    <tr>\n",
       "      <th>0</th>\n",
       "      <td>0</td>\n",
       "      <td>0.354512</td>\n",
       "      <td>0.350839</td>\n",
       "      <td>0.465761</td>\n",
       "      <td>0.781142</td>\n",
       "      <td>clear</td>\n",
       "      <td>Ghoul</td>\n",
       "    </tr>\n",
       "    <tr>\n",
       "      <th>1</th>\n",
       "      <td>1</td>\n",
       "      <td>0.575560</td>\n",
       "      <td>0.425868</td>\n",
       "      <td>0.531401</td>\n",
       "      <td>0.439899</td>\n",
       "      <td>green</td>\n",
       "      <td>Goblin</td>\n",
       "    </tr>\n",
       "    <tr>\n",
       "      <th>2</th>\n",
       "      <td>2</td>\n",
       "      <td>0.467875</td>\n",
       "      <td>0.354330</td>\n",
       "      <td>0.811616</td>\n",
       "      <td>0.791225</td>\n",
       "      <td>black</td>\n",
       "      <td>Ghoul</td>\n",
       "    </tr>\n",
       "    <tr>\n",
       "      <th>3</th>\n",
       "      <td>4</td>\n",
       "      <td>0.776652</td>\n",
       "      <td>0.508723</td>\n",
       "      <td>0.636766</td>\n",
       "      <td>0.884464</td>\n",
       "      <td>black</td>\n",
       "      <td>Ghoul</td>\n",
       "    </tr>\n",
       "    <tr>\n",
       "      <th>4</th>\n",
       "      <td>5</td>\n",
       "      <td>0.566117</td>\n",
       "      <td>0.875862</td>\n",
       "      <td>0.418594</td>\n",
       "      <td>0.636438</td>\n",
       "      <td>green</td>\n",
       "      <td>Ghost</td>\n",
       "    </tr>\n",
       "  </tbody>\n",
       "</table>\n",
       "</div>"
      ],
      "text/plain": [
       "   id  bone_length  rotting_flesh  hair_length  has_soul  color    type\n",
       "0   0     0.354512       0.350839     0.465761  0.781142  clear   Ghoul\n",
       "1   1     0.575560       0.425868     0.531401  0.439899  green  Goblin\n",
       "2   2     0.467875       0.354330     0.811616  0.791225  black   Ghoul\n",
       "3   4     0.776652       0.508723     0.636766  0.884464  black   Ghoul\n",
       "4   5     0.566117       0.875862     0.418594  0.636438  green   Ghost"
      ]
     },
     "execution_count": 59,
     "metadata": {},
     "output_type": "execute_result"
    }
   ],
   "source": [
    "train.head()"
   ]
  },
  {
   "cell_type": "markdown",
   "metadata": {},
   "source": [
    "* **Identificación de missing values**"
   ]
  },
  {
   "cell_type": "code",
   "execution_count": 60,
   "metadata": {
    "scrolled": false
   },
   "outputs": [
    {
     "data": {
      "text/plain": [
       "id               0\n",
       "bone_length      0\n",
       "rotting_flesh    0\n",
       "hair_length      0\n",
       "has_soul         0\n",
       "color            0\n",
       "type             0\n",
       "dtype: int64"
      ]
     },
     "execution_count": 60,
     "metadata": {},
     "output_type": "execute_result"
    }
   ],
   "source": [
    "train.isnull().sum()"
   ]
  },
  {
   "cell_type": "markdown",
   "metadata": {},
   "source": [
    "Se evidencia que no hay missing values en la base de datos "
   ]
  },
  {
   "cell_type": "markdown",
   "metadata": {},
   "source": [
    "* **Manejo de las variables categóricas**\n",
    "\n",
    "Se identifican las variables categoricas:"
   ]
  },
  {
   "cell_type": "code",
   "execution_count": 61,
   "metadata": {
    "scrolled": true
   },
   "outputs": [
    {
     "data": {
      "text/html": [
       "<div>\n",
       "<style>\n",
       "    .dataframe thead tr:only-child th {\n",
       "        text-align: right;\n",
       "    }\n",
       "\n",
       "    .dataframe thead th {\n",
       "        text-align: left;\n",
       "    }\n",
       "\n",
       "    .dataframe tbody tr th {\n",
       "        vertical-align: top;\n",
       "    }\n",
       "</style>\n",
       "<table border=\"1\" class=\"dataframe\">\n",
       "  <thead>\n",
       "    <tr style=\"text-align: right;\">\n",
       "      <th></th>\n",
       "      <th>id</th>\n",
       "      <th>bone_length</th>\n",
       "      <th>rotting_flesh</th>\n",
       "      <th>hair_length</th>\n",
       "      <th>has_soul</th>\n",
       "    </tr>\n",
       "  </thead>\n",
       "  <tbody>\n",
       "    <tr>\n",
       "      <th>count</th>\n",
       "      <td>371.000000</td>\n",
       "      <td>371.000000</td>\n",
       "      <td>371.000000</td>\n",
       "      <td>371.000000</td>\n",
       "      <td>371.000000</td>\n",
       "    </tr>\n",
       "    <tr>\n",
       "      <th>mean</th>\n",
       "      <td>443.676550</td>\n",
       "      <td>0.434160</td>\n",
       "      <td>0.506848</td>\n",
       "      <td>0.529114</td>\n",
       "      <td>0.471392</td>\n",
       "    </tr>\n",
       "    <tr>\n",
       "      <th>std</th>\n",
       "      <td>263.222489</td>\n",
       "      <td>0.132833</td>\n",
       "      <td>0.146358</td>\n",
       "      <td>0.169902</td>\n",
       "      <td>0.176129</td>\n",
       "    </tr>\n",
       "    <tr>\n",
       "      <th>min</th>\n",
       "      <td>0.000000</td>\n",
       "      <td>0.061032</td>\n",
       "      <td>0.095687</td>\n",
       "      <td>0.134600</td>\n",
       "      <td>0.009402</td>\n",
       "    </tr>\n",
       "    <tr>\n",
       "      <th>25%</th>\n",
       "      <td>205.500000</td>\n",
       "      <td>0.340006</td>\n",
       "      <td>0.414812</td>\n",
       "      <td>0.407428</td>\n",
       "      <td>0.348002</td>\n",
       "    </tr>\n",
       "    <tr>\n",
       "      <th>50%</th>\n",
       "      <td>458.000000</td>\n",
       "      <td>0.434891</td>\n",
       "      <td>0.501552</td>\n",
       "      <td>0.538642</td>\n",
       "      <td>0.466372</td>\n",
       "    </tr>\n",
       "    <tr>\n",
       "      <th>75%</th>\n",
       "      <td>678.500000</td>\n",
       "      <td>0.517223</td>\n",
       "      <td>0.603977</td>\n",
       "      <td>0.647244</td>\n",
       "      <td>0.600610</td>\n",
       "    </tr>\n",
       "    <tr>\n",
       "      <th>max</th>\n",
       "      <td>897.000000</td>\n",
       "      <td>0.817001</td>\n",
       "      <td>0.932466</td>\n",
       "      <td>1.000000</td>\n",
       "      <td>0.935721</td>\n",
       "    </tr>\n",
       "  </tbody>\n",
       "</table>\n",
       "</div>"
      ],
      "text/plain": [
       "               id  bone_length  rotting_flesh  hair_length    has_soul\n",
       "count  371.000000   371.000000     371.000000   371.000000  371.000000\n",
       "mean   443.676550     0.434160       0.506848     0.529114    0.471392\n",
       "std    263.222489     0.132833       0.146358     0.169902    0.176129\n",
       "min      0.000000     0.061032       0.095687     0.134600    0.009402\n",
       "25%    205.500000     0.340006       0.414812     0.407428    0.348002\n",
       "50%    458.000000     0.434891       0.501552     0.538642    0.466372\n",
       "75%    678.500000     0.517223       0.603977     0.647244    0.600610\n",
       "max    897.000000     0.817001       0.932466     1.000000    0.935721"
      ]
     },
     "execution_count": 61,
     "metadata": {},
     "output_type": "execute_result"
    }
   ],
   "source": [
    "train.describe()"
   ]
  },
  {
   "cell_type": "markdown",
   "metadata": {},
   "source": [
    "En el manejo de las variables categóricas, se decide ordenarlas, transformándolas en valores numéricos sensibles:"
   ]
  },
  {
   "cell_type": "code",
   "execution_count": 62,
   "metadata": {
    "scrolled": true
   },
   "outputs": [
    {
     "data": {
      "text/plain": [
       "id                 int64\n",
       "bone_length      float64\n",
       "rotting_flesh    float64\n",
       "hair_length      float64\n",
       "has_soul         float64\n",
       "color             object\n",
       "type              object\n",
       "dtype: object"
      ]
     },
     "execution_count": 62,
     "metadata": {},
     "output_type": "execute_result"
    }
   ],
   "source": [
    "train.dtypes"
   ]
  },
  {
   "cell_type": "code",
   "execution_count": 63,
   "metadata": {
    "scrolled": false
   },
   "outputs": [
    {
     "data": {
      "text/plain": [
       "Ghoul     129\n",
       "Goblin    125\n",
       "Ghost     117\n",
       "Name: type, dtype: int64"
      ]
     },
     "execution_count": 63,
     "metadata": {},
     "output_type": "execute_result"
    }
   ],
   "source": [
    "train['type'].value_counts()"
   ]
  },
  {
   "cell_type": "code",
   "execution_count": 64,
   "metadata": {
    "collapsed": true
   },
   "outputs": [],
   "source": [
    "train['type'] = train.type.map({'Ghoul':1, 'Goblin':2, 'Ghost':3})"
   ]
  },
  {
   "cell_type": "code",
   "execution_count": 65,
   "metadata": {
    "scrolled": true
   },
   "outputs": [
    {
     "data": {
      "text/plain": [
       "white    137\n",
       "clear    120\n",
       "green     42\n",
       "black     41\n",
       "blue      19\n",
       "blood     12\n",
       "Name: color, dtype: int64"
      ]
     },
     "execution_count": 65,
     "metadata": {},
     "output_type": "execute_result"
    }
   ],
   "source": [
    "train['color'].value_counts()"
   ]
  },
  {
   "cell_type": "code",
   "execution_count": 66,
   "metadata": {
    "collapsed": true
   },
   "outputs": [],
   "source": [
    "train['color'] = train.color.map({'white':1, 'clear':2, 'green':3, 'black':4, 'blue':5, 'blood':6})"
   ]
  },
  {
   "cell_type": "code",
   "execution_count": 67,
   "metadata": {
    "scrolled": true
   },
   "outputs": [
    {
     "data": {
      "text/html": [
       "<div>\n",
       "<style>\n",
       "    .dataframe thead tr:only-child th {\n",
       "        text-align: right;\n",
       "    }\n",
       "\n",
       "    .dataframe thead th {\n",
       "        text-align: left;\n",
       "    }\n",
       "\n",
       "    .dataframe tbody tr th {\n",
       "        vertical-align: top;\n",
       "    }\n",
       "</style>\n",
       "<table border=\"1\" class=\"dataframe\">\n",
       "  <thead>\n",
       "    <tr style=\"text-align: right;\">\n",
       "      <th></th>\n",
       "      <th>id</th>\n",
       "      <th>bone_length</th>\n",
       "      <th>rotting_flesh</th>\n",
       "      <th>hair_length</th>\n",
       "      <th>has_soul</th>\n",
       "      <th>color</th>\n",
       "      <th>type</th>\n",
       "    </tr>\n",
       "  </thead>\n",
       "  <tbody>\n",
       "    <tr>\n",
       "      <th>count</th>\n",
       "      <td>371.000000</td>\n",
       "      <td>371.000000</td>\n",
       "      <td>371.000000</td>\n",
       "      <td>371.000000</td>\n",
       "      <td>371.000000</td>\n",
       "      <td>371.000000</td>\n",
       "      <td>371.000000</td>\n",
       "    </tr>\n",
       "    <tr>\n",
       "      <th>mean</th>\n",
       "      <td>443.676550</td>\n",
       "      <td>0.434160</td>\n",
       "      <td>0.506848</td>\n",
       "      <td>0.529114</td>\n",
       "      <td>0.471392</td>\n",
       "      <td>2.247978</td>\n",
       "      <td>1.967655</td>\n",
       "    </tr>\n",
       "    <tr>\n",
       "      <th>std</th>\n",
       "      <td>263.222489</td>\n",
       "      <td>0.132833</td>\n",
       "      <td>0.146358</td>\n",
       "      <td>0.169902</td>\n",
       "      <td>0.176129</td>\n",
       "      <td>1.358841</td>\n",
       "      <td>0.814749</td>\n",
       "    </tr>\n",
       "    <tr>\n",
       "      <th>min</th>\n",
       "      <td>0.000000</td>\n",
       "      <td>0.061032</td>\n",
       "      <td>0.095687</td>\n",
       "      <td>0.134600</td>\n",
       "      <td>0.009402</td>\n",
       "      <td>1.000000</td>\n",
       "      <td>1.000000</td>\n",
       "    </tr>\n",
       "    <tr>\n",
       "      <th>25%</th>\n",
       "      <td>205.500000</td>\n",
       "      <td>0.340006</td>\n",
       "      <td>0.414812</td>\n",
       "      <td>0.407428</td>\n",
       "      <td>0.348002</td>\n",
       "      <td>1.000000</td>\n",
       "      <td>1.000000</td>\n",
       "    </tr>\n",
       "    <tr>\n",
       "      <th>50%</th>\n",
       "      <td>458.000000</td>\n",
       "      <td>0.434891</td>\n",
       "      <td>0.501552</td>\n",
       "      <td>0.538642</td>\n",
       "      <td>0.466372</td>\n",
       "      <td>2.000000</td>\n",
       "      <td>2.000000</td>\n",
       "    </tr>\n",
       "    <tr>\n",
       "      <th>75%</th>\n",
       "      <td>678.500000</td>\n",
       "      <td>0.517223</td>\n",
       "      <td>0.603977</td>\n",
       "      <td>0.647244</td>\n",
       "      <td>0.600610</td>\n",
       "      <td>3.000000</td>\n",
       "      <td>3.000000</td>\n",
       "    </tr>\n",
       "    <tr>\n",
       "      <th>max</th>\n",
       "      <td>897.000000</td>\n",
       "      <td>0.817001</td>\n",
       "      <td>0.932466</td>\n",
       "      <td>1.000000</td>\n",
       "      <td>0.935721</td>\n",
       "      <td>6.000000</td>\n",
       "      <td>3.000000</td>\n",
       "    </tr>\n",
       "  </tbody>\n",
       "</table>\n",
       "</div>"
      ],
      "text/plain": [
       "               id  bone_length  rotting_flesh  hair_length    has_soul  \\\n",
       "count  371.000000   371.000000     371.000000   371.000000  371.000000   \n",
       "mean   443.676550     0.434160       0.506848     0.529114    0.471392   \n",
       "std    263.222489     0.132833       0.146358     0.169902    0.176129   \n",
       "min      0.000000     0.061032       0.095687     0.134600    0.009402   \n",
       "25%    205.500000     0.340006       0.414812     0.407428    0.348002   \n",
       "50%    458.000000     0.434891       0.501552     0.538642    0.466372   \n",
       "75%    678.500000     0.517223       0.603977     0.647244    0.600610   \n",
       "max    897.000000     0.817001       0.932466     1.000000    0.935721   \n",
       "\n",
       "            color        type  \n",
       "count  371.000000  371.000000  \n",
       "mean     2.247978    1.967655  \n",
       "std      1.358841    0.814749  \n",
       "min      1.000000    1.000000  \n",
       "25%      1.000000    1.000000  \n",
       "50%      2.000000    2.000000  \n",
       "75%      3.000000    3.000000  \n",
       "max      6.000000    3.000000  "
      ]
     },
     "execution_count": 67,
     "metadata": {},
     "output_type": "execute_result"
    }
   ],
   "source": [
    "train.describe()"
   ]
  },
  {
   "cell_type": "markdown",
   "metadata": {},
   "source": [
    "Se muestra las descriptivas de cada variable pero se debe tener encuenta que las descriptivas de las variables color y type no tienen sentido dado que estas son categóricas"
   ]
  },
  {
   "cell_type": "code",
   "execution_count": 68,
   "metadata": {
    "collapsed": true
   },
   "outputs": [],
   "source": [
    "train = train.drop('id', axis=1)"
   ]
  },
  {
   "cell_type": "code",
   "execution_count": 69,
   "metadata": {
    "scrolled": true
   },
   "outputs": [
    {
     "data": {
      "text/html": [
       "<div>\n",
       "<style>\n",
       "    .dataframe thead tr:only-child th {\n",
       "        text-align: right;\n",
       "    }\n",
       "\n",
       "    .dataframe thead th {\n",
       "        text-align: left;\n",
       "    }\n",
       "\n",
       "    .dataframe tbody tr th {\n",
       "        vertical-align: top;\n",
       "    }\n",
       "</style>\n",
       "<table border=\"1\" class=\"dataframe\">\n",
       "  <thead>\n",
       "    <tr style=\"text-align: right;\">\n",
       "      <th></th>\n",
       "      <th>bone_length</th>\n",
       "      <th>rotting_flesh</th>\n",
       "      <th>hair_length</th>\n",
       "      <th>has_soul</th>\n",
       "      <th>color</th>\n",
       "      <th>type</th>\n",
       "    </tr>\n",
       "  </thead>\n",
       "  <tbody>\n",
       "    <tr>\n",
       "      <th>0</th>\n",
       "      <td>0.354512</td>\n",
       "      <td>0.350839</td>\n",
       "      <td>0.465761</td>\n",
       "      <td>0.781142</td>\n",
       "      <td>2</td>\n",
       "      <td>1</td>\n",
       "    </tr>\n",
       "    <tr>\n",
       "      <th>1</th>\n",
       "      <td>0.575560</td>\n",
       "      <td>0.425868</td>\n",
       "      <td>0.531401</td>\n",
       "      <td>0.439899</td>\n",
       "      <td>3</td>\n",
       "      <td>2</td>\n",
       "    </tr>\n",
       "    <tr>\n",
       "      <th>2</th>\n",
       "      <td>0.467875</td>\n",
       "      <td>0.354330</td>\n",
       "      <td>0.811616</td>\n",
       "      <td>0.791225</td>\n",
       "      <td>4</td>\n",
       "      <td>1</td>\n",
       "    </tr>\n",
       "    <tr>\n",
       "      <th>3</th>\n",
       "      <td>0.776652</td>\n",
       "      <td>0.508723</td>\n",
       "      <td>0.636766</td>\n",
       "      <td>0.884464</td>\n",
       "      <td>4</td>\n",
       "      <td>1</td>\n",
       "    </tr>\n",
       "    <tr>\n",
       "      <th>4</th>\n",
       "      <td>0.566117</td>\n",
       "      <td>0.875862</td>\n",
       "      <td>0.418594</td>\n",
       "      <td>0.636438</td>\n",
       "      <td>3</td>\n",
       "      <td>3</td>\n",
       "    </tr>\n",
       "  </tbody>\n",
       "</table>\n",
       "</div>"
      ],
      "text/plain": [
       "   bone_length  rotting_flesh  hair_length  has_soul  color  type\n",
       "0     0.354512       0.350839     0.465761  0.781142      2     1\n",
       "1     0.575560       0.425868     0.531401  0.439899      3     2\n",
       "2     0.467875       0.354330     0.811616  0.791225      4     1\n",
       "3     0.776652       0.508723     0.636766  0.884464      4     1\n",
       "4     0.566117       0.875862     0.418594  0.636438      3     3"
      ]
     },
     "execution_count": 69,
     "metadata": {},
     "output_type": "execute_result"
    }
   ],
   "source": [
    "train.head()"
   ]
  },
  {
   "cell_type": "markdown",
   "metadata": {},
   "source": [
    "* **Identificación de outliers**\n",
    "\n",
    "Se grafica la variable “type” (tipo de monstruo) contra cada una de las otras variables, para identificar visualmente si existen outliers en cada variable. "
   ]
  },
  {
   "cell_type": "code",
   "execution_count": 70,
   "metadata": {
    "scrolled": true
   },
   "outputs": [
    {
     "data": {
      "image/png": "[encoded data removed]",
      "text/plain": [
       "<matplotlib.figure.Figure at 0x231b757438>"
      ]
     },
     "metadata": {},
     "output_type": "display_data"
    },
    {
     "data": {
      "text/plain": [
       "count    371.000000\n",
       "mean       0.434160\n",
       "std        0.132833\n",
       "min        0.061032\n",
       "25%        0.340006\n",
       "50%        0.434891\n",
       "75%        0.517223\n",
       "max        0.817001\n",
       "Name: bone_length, dtype: float64"
      ]
     },
     "execution_count": 70,
     "metadata": {},
     "output_type": "execute_result"
    }
   ],
   "source": [
    "import matplotlib.pyplot as plt \n",
    "x = train[\"type\"] \n",
    "y = train[\"bone_length\"]\n",
    "plt.plot(x,y,'o')\n",
    "plt.show()\n",
    "\n",
    "train[\"bone_length\"].describe()"
   ]
  },
  {
   "cell_type": "markdown",
   "metadata": {},
   "source": [
    "Se evidencia que los “Ghoul” tienen una longitud promedio de huesos mayor que los otros dos monstruos, lo cual tiene sentido, si se compara con la imagen. "
   ]
  },
  {
   "cell_type": "code",
   "execution_count": 14,
   "metadata": {
    "scrolled": false
   },
   "outputs": [
    {
     "data": {
      "image/png": "[encoded data removed]",
      "text/plain": [
       "<matplotlib.figure.Figure at 0x2319507550>"
      ]
     },
     "metadata": {},
     "output_type": "display_data"
    },
    {
     "data": {
      "text/plain": [
       "count    371.000000\n",
       "mean       0.506848\n",
       "std        0.146358\n",
       "min        0.095687\n",
       "25%        0.414812\n",
       "50%        0.501552\n",
       "75%        0.603977\n",
       "max        0.932466\n",
       "Name: rotting_flesh, dtype: float64"
      ]
     },
     "execution_count": 14,
     "metadata": {},
     "output_type": "execute_result"
    }
   ],
   "source": [
    "import matplotlib.pyplot as plt \n",
    "x = train[\"type\"] \n",
    "y = train[\"rotting_flesh\"]\n",
    "plt.plot(x,y,'o')\n",
    "plt.show()\n",
    "\n",
    "train[\"rotting_flesh\"].describe()"
   ]
  },
  {
   "cell_type": "markdown",
   "metadata": {},
   "source": [
    "Se evidencia que los “Ghost” tienen un porcentaje más alto de Carne podrida que los otros dos monstruos."
   ]
  },
  {
   "cell_type": "code",
   "execution_count": 15,
   "metadata": {
    "scrolled": false
   },
   "outputs": [
    {
     "data": {
      "image/png": "[encoded data removed]",
      "text/plain": [
       "<matplotlib.figure.Figure at 0x23195f84a8>"
      ]
     },
     "metadata": {},
     "output_type": "display_data"
    },
    {
     "data": {
      "text/plain": [
       "count    371.000000\n",
       "mean       0.529114\n",
       "std        0.169902\n",
       "min        0.134600\n",
       "25%        0.407428\n",
       "50%        0.538642\n",
       "75%        0.647244\n",
       "max        1.000000\n",
       "Name: hair_length, dtype: float64"
      ]
     },
     "execution_count": 15,
     "metadata": {},
     "output_type": "execute_result"
    }
   ],
   "source": [
    "import matplotlib.pyplot as plt \n",
    "x = train[\"type\"] \n",
    "y = train[\"hair_length\"]\n",
    "plt.plot(x,y,'o')\n",
    "plt.show()\n",
    "\n",
    "train[\"hair_length\"].describe()"
   ]
  },
  {
   "cell_type": "markdown",
   "metadata": {},
   "source": [
    "Se evidencia que los “Ghoul” tienen una longitud promedio de pelo (normalizado) más largo que los otros dos monstruos."
   ]
  },
  {
   "cell_type": "code",
   "execution_count": 16,
   "metadata": {
    "scrolled": false
   },
   "outputs": [
    {
     "data": {
      "image/png": "[encoded data removed]",
      "text/plain": [
       "<matplotlib.figure.Figure at 0x23195ad6d8>"
      ]
     },
     "metadata": {},
     "output_type": "display_data"
    },
    {
     "data": {
      "text/plain": [
       "count    371.000000\n",
       "mean       0.471392\n",
       "std        0.176129\n",
       "min        0.009402\n",
       "25%        0.348002\n",
       "50%        0.466372\n",
       "75%        0.600610\n",
       "max        0.935721\n",
       "Name: has_soul, dtype: float64"
      ]
     },
     "execution_count": 16,
     "metadata": {},
     "output_type": "execute_result"
    }
   ],
   "source": [
    "import matplotlib.pyplot as plt \n",
    "x = train[\"type\"] \n",
    "y = train[\"has_soul\"]\n",
    "plt.plot(x,y,'o')\n",
    "plt.show()\n",
    "\n",
    "train[\"has_soul\"].describe()"
   ]
  },
  {
   "cell_type": "markdown",
   "metadata": {},
   "source": [
    "Se evidencia que los “Ghoul” prsentan los porcentajes más altos de alma que los otros moustruos."
   ]
  },
  {
   "cell_type": "code",
   "execution_count": 17,
   "metadata": {
    "scrolled": false
   },
   "outputs": [
    {
     "data": {
      "image/png": "[encoded data removed]",
      "text/plain": [
       "<matplotlib.figure.Figure at 0x23190fe668>"
      ]
     },
     "metadata": {},
     "output_type": "display_data"
    },
    {
     "data": {
      "text/plain": [
       "count    371.000000\n",
       "mean       2.247978\n",
       "std        1.358841\n",
       "min        1.000000\n",
       "25%        1.000000\n",
       "50%        2.000000\n",
       "75%        3.000000\n",
       "max        6.000000\n",
       "Name: color, dtype: float64"
      ]
     },
     "execution_count": 17,
     "metadata": {},
     "output_type": "execute_result"
    }
   ],
   "source": [
    "import matplotlib.pyplot as plt \n",
    "x = train[\"type\"] \n",
    "y = train[\"color\"]\n",
    "plt.plot(x,y,'o')\n",
    "plt.show()\n",
    "\n",
    "train[\"color\"].describe()"
   ]
  },
  {
   "cell_type": "markdown",
   "metadata": {},
   "source": [
    "Se evidencia que los monstruos pueden ser de cualquiera de los seis colores."
   ]
  },
  {
   "cell_type": "markdown",
   "metadata": {},
   "source": [
    "Luego se grafica una matriz de correlaciones, para identificar si existe correlación alta entre las variables independientes:"
   ]
  },
  {
   "cell_type": "code",
   "execution_count": 18,
   "metadata": {},
   "outputs": [
    {
     "data": {
      "image/png": "[encoded data removed]",
      "text/plain": [
       "<matplotlib.figure.Figure at 0x231962c4e0>"
      ]
     },
     "metadata": {},
     "output_type": "display_data"
    }
   ],
   "source": [
    "plt.figure(figsize=(25,7))\n",
    "plt.matshow(train.corr(), fignum=1)\n",
    "plt.xticks(range(len(train.columns)), train.columns)\n",
    "plt.yticks(range(len(train.columns)), train.columns)\n",
    "plt.colorbar()\n",
    "plt.show()"
   ]
  },
  {
   "cell_type": "markdown",
   "metadata": {},
   "source": [
    "Por último, de las gráficas y estadísticos anteriores se concluye que no hay outliers en ninguna de las variables, puesto que ninguna de las observaciones se aleja \"considerablemente\" de la media, además de que la mayoría de las variables se distribuyen entre 0 y 1. Tampoco se ve una correlación “alta” entre las variables independientes."
   ]
  },
  {
   "cell_type": "markdown",
   "metadata": {},
   "source": [
    "## Evaluación de modelos\n",
    "\n",
    "\"La evaluación, calibración y selección de diferentes modelos. Para esta etapa debe tener en cuenta los\n",
    "procesos de Training Score, Validation Score, curva de validación y curva de aprendizaje.\""
   ]
  },
  {
   "cell_type": "markdown",
   "metadata": {},
   "source": [
    "* **Cargue de la base de Test** \n",
    "\n",
    "(Para realizar la predicción)"
   ]
  },
  {
   "cell_type": "code",
   "execution_count": 71,
   "metadata": {},
   "outputs": [
    {
     "name": "stdout",
     "output_type": "stream",
     "text": [
      "Tamaño de la base de Test\n",
      "(529, 6)\n"
     ]
    }
   ],
   "source": [
    "import pandas as pd\n",
    "import zipfile\n",
    "with zipfile.ZipFile('C:/Users/429331/Desktop/PERSONAL/MAESTRIA/21 DEEP LEARNING/PROYECTO NUEVO/Project/test.csv.zip', 'r') as z:\n",
    "#with zipfile.ZipFile('C:/Users/AsusPC/Documents/Analytics/2018-Vacacional/DeepLearning/Project/test.csv.zip', 'r') as z:\n",
    "    f = z.open('test.csv')\n",
    "    test = pd.io.parsers.read_table(f, sep=',')\n",
    "    \n",
    "print(\"Tamaño de la base de Test\")\n",
    "print(test.shape)"
   ]
  },
  {
   "cell_type": "code",
   "execution_count": 72,
   "metadata": {
    "scrolled": false
   },
   "outputs": [
    {
     "data": {
      "text/html": [
       "<div>\n",
       "<style>\n",
       "    .dataframe thead tr:only-child th {\n",
       "        text-align: right;\n",
       "    }\n",
       "\n",
       "    .dataframe thead th {\n",
       "        text-align: left;\n",
       "    }\n",
       "\n",
       "    .dataframe tbody tr th {\n",
       "        vertical-align: top;\n",
       "    }\n",
       "</style>\n",
       "<table border=\"1\" class=\"dataframe\">\n",
       "  <thead>\n",
       "    <tr style=\"text-align: right;\">\n",
       "      <th></th>\n",
       "      <th>id</th>\n",
       "      <th>bone_length</th>\n",
       "      <th>rotting_flesh</th>\n",
       "      <th>hair_length</th>\n",
       "      <th>has_soul</th>\n",
       "      <th>color</th>\n",
       "    </tr>\n",
       "  </thead>\n",
       "  <tbody>\n",
       "    <tr>\n",
       "      <th>0</th>\n",
       "      <td>3</td>\n",
       "      <td>0.471774</td>\n",
       "      <td>0.387937</td>\n",
       "      <td>0.706087</td>\n",
       "      <td>0.698537</td>\n",
       "      <td>4</td>\n",
       "    </tr>\n",
       "    <tr>\n",
       "      <th>1</th>\n",
       "      <td>6</td>\n",
       "      <td>0.427332</td>\n",
       "      <td>0.645024</td>\n",
       "      <td>0.565558</td>\n",
       "      <td>0.451462</td>\n",
       "      <td>1</td>\n",
       "    </tr>\n",
       "    <tr>\n",
       "      <th>2</th>\n",
       "      <td>9</td>\n",
       "      <td>0.549602</td>\n",
       "      <td>0.491931</td>\n",
       "      <td>0.660387</td>\n",
       "      <td>0.449809</td>\n",
       "      <td>4</td>\n",
       "    </tr>\n",
       "    <tr>\n",
       "      <th>3</th>\n",
       "      <td>10</td>\n",
       "      <td>0.638095</td>\n",
       "      <td>0.682867</td>\n",
       "      <td>0.471409</td>\n",
       "      <td>0.356924</td>\n",
       "      <td>1</td>\n",
       "    </tr>\n",
       "    <tr>\n",
       "      <th>4</th>\n",
       "      <td>13</td>\n",
       "      <td>0.361762</td>\n",
       "      <td>0.583997</td>\n",
       "      <td>0.377256</td>\n",
       "      <td>0.276364</td>\n",
       "      <td>4</td>\n",
       "    </tr>\n",
       "  </tbody>\n",
       "</table>\n",
       "</div>"
      ],
      "text/plain": [
       "   id  bone_length  rotting_flesh  hair_length  has_soul  color\n",
       "0   3     0.471774       0.387937     0.706087  0.698537      4\n",
       "1   6     0.427332       0.645024     0.565558  0.451462      1\n",
       "2   9     0.549602       0.491931     0.660387  0.449809      4\n",
       "3  10     0.638095       0.682867     0.471409  0.356924      1\n",
       "4  13     0.361762       0.583997     0.377256  0.276364      4"
      ]
     },
     "execution_count": 72,
     "metadata": {},
     "output_type": "execute_result"
    }
   ],
   "source": [
    "test['color'] = test.color.map({'white':1, 'clear':2, 'green':3, 'black':4, 'blue':5, 'blood':6})\n",
    "test.head()"
   ]
  },
  {
   "cell_type": "markdown",
   "metadata": {},
   "source": [
    "## **<font color=red>Creación de un modelo de clasificación de Árboles:</font>**\n",
    "\n",
    "La idea fundamental de un árbol de decisión es estratificar el espacio de predictores, es decir generar una partición y predecir de manera constante en cada parte resultante:"
   ]
  },
  {
   "cell_type": "markdown",
   "metadata": {},
   "source": [
    "<img src=\"Arboles.PNG\", width=300, height=300>"
   ]
  },
  {
   "cell_type": "code",
   "execution_count": 21,
   "metadata": {},
   "outputs": [
    {
     "data": {
      "text/plain": [
       "DecisionTreeClassifier(class_weight=None, criterion='gini', max_depth=None,\n",
       "            max_features=None, max_leaf_nodes=None,\n",
       "            min_impurity_split=1e-07, min_samples_leaf=1,\n",
       "            min_samples_split=2, min_weight_fraction_leaf=0.0,\n",
       "            presort=False, random_state=None, splitter='best')"
      ]
     },
     "execution_count": 21,
     "metadata": {},
     "output_type": "execute_result"
    }
   ],
   "source": [
    "from sklearn import tree\n",
    "import numpy as np\n",
    "import pandas as pd\n",
    "clf = tree.DecisionTreeClassifier()\n",
    "clf = clf.fit(train[['bone_length', 'rotting_flesh', 'hair_length', 'has_soul', 'color']],train['type'] )\n",
    "clf"
   ]
  },
  {
   "cell_type": "markdown",
   "metadata": {},
   "source": [
    "Después, se crea la predicción de la variable “type” sobre la base del Test:"
   ]
  },
  {
   "cell_type": "code",
   "execution_count": 22,
   "metadata": {
    "collapsed": true,
    "scrolled": true
   },
   "outputs": [],
   "source": [
    "pred = clf.predict(test[['bone_length', 'rotting_flesh', 'hair_length', 'has_soul', 'color']] )\n",
    "pred = pd.DataFrame(pred)\n",
    "pred.columns = ['type']\n",
    "pred = pred.type.map({1:'Ghoul', 2:'Goblin', 3:'Ghost'})"
   ]
  },
  {
   "cell_type": "markdown",
   "metadata": {},
   "source": [
    "Y se crea el archivo de \"Submission\" numero 1:"
   ]
  },
  {
   "cell_type": "code",
   "execution_count": 23,
   "metadata": {
    "collapsed": true,
    "scrolled": true
   },
   "outputs": [],
   "source": [
    "Submission1 = test\n",
    "Submission1['type'] = pred\n",
    "Submission1 = Submission1.drop('bone_length', axis=1)\n",
    "Submission1 = Submission1.drop('rotting_flesh', axis=1)\n",
    "Submission1 = Submission1.drop('hair_length', axis=1)\n",
    "Submission1 = Submission1.drop('has_soul', axis=1)\n",
    "Submission1 = Submission1.drop('color', axis=1)\n",
    "import pandas as pd\n",
    "Submission1.to_csv('Submission1.csv',  index = False)"
   ]
  },
  {
   "cell_type": "markdown",
   "metadata": {},
   "source": [
    "Se sube el archivo de predicción a la plataforma Kaggle para su evaluación, y se obtiene una puntación de 0.64839\n",
    "\n",
    "<img src=\"Submission1.png\">"
   ]
  },
  {
   "cell_type": "markdown",
   "metadata": {},
   "source": [
    "## **<font color=red>Creación de un modelo de clasificación de Random Forest:</font>**"
   ]
  },
  {
   "cell_type": "markdown",
   "metadata": {
    "collapsed": true
   },
   "source": [
    "El algoritmo de random forest es un meta estimador que estima un número de árboles de decisión con varias submuestras del conjunto de datos y los promedia para mejorar la precisión y el control del over-fitting. La submuestra siempre tiene el tamaño de la muestra original pero se seleccionan con bootstrap:"
   ]
  },
  {
   "cell_type": "markdown",
   "metadata": {},
   "source": [
    "<img src=\"Random Forest.png\", width=300, height=300>"
   ]
  },
  {
   "cell_type": "code",
   "execution_count": 24,
   "metadata": {},
   "outputs": [
    {
     "data": {
      "text/plain": [
       "RandomForestClassifier(bootstrap=True, class_weight=None, criterion='gini',\n",
       "            max_depth=2, max_features='auto', max_leaf_nodes=None,\n",
       "            min_impurity_split=1e-07, min_samples_leaf=1,\n",
       "            min_samples_split=2, min_weight_fraction_leaf=0.0,\n",
       "            n_estimators=10, n_jobs=1, oob_score=False, random_state=0,\n",
       "            verbose=0, warm_start=False)"
      ]
     },
     "execution_count": 24,
     "metadata": {},
     "output_type": "execute_result"
    }
   ],
   "source": [
    "from sklearn.ensemble import RandomForestClassifier\n",
    "from sklearn.datasets import make_classification\n",
    "rf = RandomForestClassifier(max_depth=2, random_state=0)\n",
    "rf.fit(train[['bone_length', 'rotting_flesh', 'hair_length', 'has_soul', 'color']],train['type'])"
   ]
  },
  {
   "cell_type": "code",
   "execution_count": 25,
   "metadata": {
    "collapsed": true
   },
   "outputs": [],
   "source": [
    "pred2 = rf.predict(test[['bone_length', 'rotting_flesh', 'hair_length', 'has_soul', 'color']])\n",
    "pred2 = pd.DataFrame(pred2)\n",
    "pred2.columns = ['type']\n",
    "pred2 = pred2.type.map({1:'Ghoul', 2:'Goblin', 3:'Ghost'})\n",
    "Submission2 = test\n",
    "Submission2['type'] = pred2\n",
    "Submission2 = Submission2.drop('bone_length', axis=1)\n",
    "Submission2 = Submission2.drop('rotting_flesh', axis=1)\n",
    "Submission2 = Submission2.drop('hair_length', axis=1)\n",
    "Submission2 = Submission2.drop('has_soul', axis=1)\n",
    "Submission2 = Submission2.drop('color', axis=1)\n",
    "import pandas as pd\n",
    "Submission2.to_csv('Submission2.csv',  index = False)"
   ]
  },
  {
   "cell_type": "markdown",
   "metadata": {},
   "source": [
    "Se sube el archivo de predicción a la plataforma Kaggle para su evaluación, y se obtiene una puntación de 0.69376\n",
    "\n",
    "<img src=\"Submission2.png\">"
   ]
  },
  {
   "cell_type": "markdown",
   "metadata": {},
   "source": [
    "## **<font color=red>Creación de un modelo de clasificación de Logistic Regression:</font>**\n",
    "\n",
    "La regresión logística se utiliza para predecir el resultado de una variable categórica. Las probabilidades que describen el posible resultado de un único ensayo se modelan, como una función de variables explicativas, utilizando una función logística."
   ]
  },
  {
   "cell_type": "markdown",
   "metadata": {},
   "source": [
    "<img src=\"Regresion logistica.PNG\", width=400, height=400>"
   ]
  },
  {
   "cell_type": "code",
   "execution_count": 26,
   "metadata": {},
   "outputs": [
    {
     "data": {
      "text/plain": [
       "LogisticRegression(C=1.0, class_weight=None, dual=False, fit_intercept=True,\n",
       "          intercept_scaling=1, max_iter=100, multi_class='ovr', n_jobs=1,\n",
       "          penalty='l2', random_state=None, solver='liblinear', tol=0.0001,\n",
       "          verbose=0, warm_start=False)"
      ]
     },
     "execution_count": 26,
     "metadata": {},
     "output_type": "execute_result"
    }
   ],
   "source": [
    "from sklearn.linear_model import LogisticRegression\n",
    "logreg = LogisticRegression()\n",
    "logreg.fit(train[['bone_length', 'rotting_flesh', 'hair_length', 'has_soul', 'color']],train['type'])"
   ]
  },
  {
   "cell_type": "code",
   "execution_count": 27,
   "metadata": {
    "collapsed": true
   },
   "outputs": [],
   "source": [
    "pred3 = logreg.predict(test[['bone_length', 'rotting_flesh', 'hair_length', 'has_soul', 'color']])\n",
    "pred3 = pd.DataFrame(pred3)\n",
    "pred3.columns = ['type']\n",
    "pred3 = pred3.type.map({1:'Ghoul', 2:'Goblin', 3:'Ghost'})\n",
    "Submission3 = test\n",
    "Submission3['type'] = pred3\n",
    "Submission3 = Submission3.drop('bone_length', axis=1)\n",
    "Submission3 = Submission3.drop('rotting_flesh', axis=1)\n",
    "Submission3 = Submission3.drop('hair_length', axis=1)\n",
    "Submission3 = Submission3.drop('has_soul', axis=1)\n",
    "Submission3 = Submission3.drop('color', axis=1)\n",
    "import pandas as pd\n",
    "Submission3.to_csv('Submission3.csv',  index = False)"
   ]
  },
  {
   "cell_type": "markdown",
   "metadata": {},
   "source": [
    "Se sube el archivo de predicción a la plataforma Kaggle para su evaluación, y se obtiene una puntación de 0.72967\n",
    "\n",
    "<img src=\"Submission3.png\">"
   ]
  },
  {
   "cell_type": "markdown",
   "metadata": {},
   "source": [
    "## **<font color=red>Creación de un modelo de clasificación de K-Nearest Neighbors:</font>**\n",
    "\n",
    "a continuación, se crea el modelo de clasificación de K-Nearest Neighbors:"
   ]
  },
  {
   "cell_type": "markdown",
   "metadata": {},
   "source": [
    "<img src=\"K Neighbours.png\", width=400, height=400>"
   ]
  },
  {
   "cell_type": "code",
   "execution_count": 73,
   "metadata": {
    "scrolled": true
   },
   "outputs": [
    {
     "data": {
      "text/plain": [
       "KNeighborsClassifier(algorithm='auto', leaf_size=30, metric='minkowski',\n",
       "           metric_params=None, n_jobs=1, n_neighbors=5, p=2,\n",
       "           weights='uniform')"
      ]
     },
     "execution_count": 73,
     "metadata": {},
     "output_type": "execute_result"
    }
   ],
   "source": [
    "from sklearn.neighbors import KNeighborsClassifier\n",
    "knn = KNeighborsClassifier()\n",
    "knn.fit(train[['bone_length', 'rotting_flesh', 'hair_length', 'has_soul', 'color']],train['type'])"
   ]
  },
  {
   "cell_type": "code",
   "execution_count": 37,
   "metadata": {
    "collapsed": true
   },
   "outputs": [],
   "source": [
    "import numpy as np # linear algebra\n",
    "import pandas as pd # data processing, CSV file I/O (e.g. pd.read_csv)\n",
    "\n",
    "from matplotlib import pyplot as plt\n",
    "%matplotlib inline\n",
    "import seaborn as sns\n",
    "\n",
    "from sklearn import preprocessing\n",
    "from sklearn import metrics\n",
    "from sklearn.model_selection import train_test_split\n",
    "from sklearn.model_selection import GridSearchCV\n",
    "from sklearn.tree import DecisionTreeClassifier\n",
    "\n",
    "from sklearn.neighbors import KNeighborsClassifier\n",
    "from sklearn.linear_model import LogisticRegression\n",
    "\n",
    "import warnings\n",
    "warnings.filterwarnings(\"ignore\")"
   ]
  },
  {
   "cell_type": "code",
   "execution_count": 48,
   "metadata": {},
   "outputs": [
    {
     "name": "stdout",
     "output_type": "stream",
     "text": [
      "Best score: 0.6684636118598383\n",
      "Best parameters: {'leaf_size': 1, 'n_neighbors': 12, 'p': 3, 'weights': 'distance'}\n"
     ]
    }
   ],
   "source": [
    "scorer = metrics.make_scorer(metrics.accuracy_score)\n",
    "params = {'n_neighbors':[10, 11, 12, 13, 14], 'leaf_size':[1,2,3, 4 ], 'p':[2,3,4], 'weights':['uniform', 'distance']}\n",
    "knc = KNeighborsClassifier()\n",
    "clf = GridSearchCV(knc, param_grid = params, scoring = scorer, cv = 5, n_jobs = -1)\n",
    "clf.fit(train[['bone_length', 'rotting_flesh', 'hair_length', 'has_soul', 'color']],train['type'])\n",
    "print('Best score: {}'.format(clf.best_score_))\n",
    "print('Best parameters: {}'.format(clf.best_params_))\n",
    "\n",
    "knc_best = KNeighborsClassifier(n_neighbors = 10)"
   ]
  },
  {
   "cell_type": "code",
   "execution_count": 55,
   "metadata": {},
   "outputs": [
    {
     "data": {
      "text/plain": [
       "KNeighborsClassifier(algorithm='auto', leaf_size=1, metric='minkowski',\n",
       "           metric_params=None, n_jobs=1, n_neighbors=3, p=3,\n",
       "           weights='distance')"
      ]
     },
     "execution_count": 55,
     "metadata": {},
     "output_type": "execute_result"
    }
   ],
   "source": [
    "knn = KNeighborsClassifier(n_neighbors=3, weights='distance', leaf_size=1, p=3)\n",
    "knn.fit(train[['bone_length', 'rotting_flesh', 'hair_length', 'has_soul', 'color']],train['type'])"
   ]
  },
  {
   "cell_type": "code",
   "execution_count": 56,
   "metadata": {},
   "outputs": [
    {
     "data": {
      "text/plain": [
       "array([1, 2, 1, 2, 3, 3, 1, 2, 2, 1, 3, 1, 2, 3, 1, 3, 2, 3, 3, 1, 2, 1,\n",
       "       2, 2, 1, 2, 1, 2, 2, 1, 2, 1, 1, 2, 2, 1, 3, 1, 3, 1, 2, 2, 2, 2,\n",
       "       2, 2, 1, 1, 1, 3, 2, 2, 3, 2, 2, 3, 2, 3, 1, 3, 2, 2, 3, 2, 1, 1,\n",
       "       1, 2, 2, 1, 2, 3, 2, 1, 1, 1, 2, 2, 3, 2, 3, 2, 1, 1, 2, 3, 2, 1,\n",
       "       3, 3, 3, 3, 2, 2, 3, 3, 2, 2, 2, 2, 2, 2, 2, 3, 1, 2, 2, 3, 1, 1,\n",
       "       2, 2, 1, 1, 1, 2, 2, 2, 1, 3, 1, 2, 3, 2, 1, 3, 3, 3, 1, 1, 3, 2,\n",
       "       2, 1, 2, 2, 1, 1, 2, 2, 1, 2, 3, 1, 1, 3, 1, 3, 3, 2, 2, 1, 2, 1,\n",
       "       3, 3, 1, 1, 3, 1, 1, 2, 1, 1, 3, 3, 3, 3, 2, 3, 3, 2, 3, 1, 1, 1,\n",
       "       3, 1, 1, 1, 3, 3, 1, 3, 3, 2, 1, 2, 1, 3, 3, 1, 2, 3, 1, 1, 1, 2,\n",
       "       1, 1, 3, 3, 3, 3, 2, 3, 2, 2, 2, 1, 2, 3, 3, 3, 2, 3, 1, 3, 1, 2,\n",
       "       2, 2, 1, 1, 1, 2, 3, 3, 2, 3, 2, 2, 3, 3, 3, 1, 2, 1, 2, 2, 3, 3,\n",
       "       3, 3, 2, 1, 2, 3, 3, 2, 3, 3, 3, 1, 2, 2, 3, 1, 3, 3, 3, 1, 2, 2,\n",
       "       1, 1, 2, 1, 2, 3, 1, 1, 3, 2, 1, 2, 2, 1, 2, 3, 3, 2, 1, 1, 1, 1,\n",
       "       3, 1, 3, 3, 2, 3, 1, 2, 2, 1, 3, 2, 3, 1, 1, 1, 2, 3, 1, 1, 1, 2,\n",
       "       3, 2, 1, 2, 2, 3, 3, 2, 2, 3, 3, 1, 3, 2, 1, 1, 3, 3, 3, 2, 3, 1,\n",
       "       1, 2, 2, 3, 3, 1, 2, 1, 2, 1, 1, 1, 1, 2, 3, 3, 3, 2, 3, 1, 1, 3,\n",
       "       1, 3, 2, 2, 2, 3, 3, 1, 2, 3, 1, 3, 2, 2, 1, 2, 2, 1, 3, 3, 1, 3,\n",
       "       3, 3, 1, 3, 2, 1, 2, 3, 3, 2, 2, 3, 3, 3, 2, 2, 2, 1, 3, 2, 3, 2,\n",
       "       1, 2, 3, 1, 2, 1, 3, 1, 3, 1, 1, 3, 2, 3, 3, 2, 1, 3, 2, 3, 2, 1,\n",
       "       1, 3, 3, 2, 1, 1, 3, 3, 3, 2, 2, 3, 2, 2, 2, 1, 2, 1, 2, 3, 1, 3,\n",
       "       1, 1, 3, 2, 3, 1, 2, 2, 2, 2, 2, 1, 3, 1, 1, 3, 2, 3, 1, 1, 3, 3,\n",
       "       1, 2, 2, 1, 2, 1, 2, 3, 1, 1, 1, 1, 3, 3, 2, 3, 3, 2, 2, 2, 3, 2,\n",
       "       3, 2, 3, 3, 3, 1, 3, 1, 1, 3, 1, 3, 1, 1, 2, 3, 2, 3, 3, 2, 2, 3,\n",
       "       1, 3, 1, 2, 1, 2, 3, 2, 2, 1, 1, 1, 2, 3, 2, 2, 1, 1, 2, 3, 1, 3,\n",
       "       3], dtype=int64)"
      ]
     },
     "execution_count": 56,
     "metadata": {},
     "output_type": "execute_result"
    }
   ],
   "source": [
    "pred4 = knn.predict(test[['bone_length', 'rotting_flesh', 'hair_length', 'has_soul', 'color']])\n",
    "pred4"
   ]
  },
  {
   "cell_type": "code",
   "execution_count": 57,
   "metadata": {
    "collapsed": true
   },
   "outputs": [],
   "source": [
    "pred4 = pd.DataFrame(pred4)\n",
    "pred4.columns = ['type']\n",
    "pred4 = pred4.type.map({1:'Ghoul', 2:'Goblin', 3:'Ghost'})\n",
    "Submission4 = test\n",
    "Submission4['type'] = pred4\n",
    "Submission4 = Submission4.drop('bone_length', axis=1)\n",
    "Submission4 = Submission4.drop('rotting_flesh', axis=1)\n",
    "Submission4 = Submission4.drop('hair_length', axis=1)\n",
    "Submission4 = Submission4.drop('has_soul', axis=1)\n",
    "Submission4 = Submission4.drop('color', axis=1)\n",
    "import pandas as pd\n",
    "Submission4.to_csv('Submission4.csv',  index = False)"
   ]
  },
  {
   "cell_type": "markdown",
   "metadata": {},
   "source": [
    "Se sube el archivo de predicción a la plataforma Kaggle para su evaluación, y se obtiene una puntación de 0.67674\n",
    "\n",
    "<img src=\"Submission4.png\">"
   ]
  },
  {
   "cell_type": "markdown",
   "metadata": {},
   "source": [
    "## **<font color=red>Creación de un modelo de clasificación de Support Vector Machine:</font>**\n",
    "\n",
    "Las máquinas de soporte vectorial (Support Vector Machine - SVM) son la forma más general de los métodos de predicción basados en maximización de márgenes de separación.\n",
    "\n",
    "La idea fundamental parte de la maximización del márgen de separación entre clases. Usa un punto de vista puramente geométrico y no necesariamente considera los datos como aleatorios."
   ]
  },
  {
   "cell_type": "code",
   "execution_count": 561,
   "metadata": {},
   "outputs": [
    {
     "data": {
      "text/plain": [
       "SVC(C=1.0, cache_size=200, class_weight=None, coef0=0.0,\n",
       "  decision_function_shape='ovr', degree=3, gamma='auto', kernel='rbf',\n",
       "  max_iter=-1, probability=False, random_state=None, shrinking=True,\n",
       "  tol=0.001, verbose=False)"
      ]
     },
     "execution_count": 561,
     "metadata": {},
     "output_type": "execute_result"
    }
   ],
   "source": [
    "from sklearn.svm import SVC\n",
    "svm = SVC()\n",
    "svm.fit(train[['bone_length', 'rotting_flesh', 'hair_length', 'has_soul', 'color']],train['type'])"
   ]
  },
  {
   "cell_type": "code",
   "execution_count": 562,
   "metadata": {
    "collapsed": true
   },
   "outputs": [],
   "source": [
    "pred5 = svm.predict(test[['bone_length', 'rotting_flesh', 'hair_length', 'has_soul', 'color']])\n",
    "pred5 = pd.DataFrame(pred5)\n",
    "pred5.columns = ['type']\n",
    "pred5 = pred5.type.map({1:'Ghoul', 2:'Goblin', 3:'Ghost'})\n",
    "Submission5 = test\n",
    "Submission5['type'] = pred5\n",
    "Submission5 = Submission5.drop('bone_length', axis=1)\n",
    "Submission5 = Submission5.drop('rotting_flesh', axis=1)\n",
    "Submission5 = Submission5.drop('hair_length', axis=1)\n",
    "Submission5 = Submission5.drop('has_soul', axis=1)\n",
    "Submission5 = Submission5.drop('color', axis=1)\n",
    "import pandas as pd\n",
    "Submission5.to_csv('Submission5.csv',  index = False)"
   ]
  },
  {
   "cell_type": "markdown",
   "metadata": {},
   "source": [
    "Se sube el archivo de predicción a la plataforma Kaggle para su evaluación, y se obtiene una puntación de 0.71077\n",
    "\n",
    "<img src=\"Submission5.png\">"
   ]
  },
  {
   "cell_type": "markdown",
   "metadata": {},
   "source": [
    "## **<font color=red>Creación de un modelo de clasificación de Linear Discriminant Analysis:</font>**\n",
    "\n",
    "A continuación, se crea el modelo de clasificación de Linear Discriminant Analysis:"
   ]
  },
  {
   "cell_type": "markdown",
   "metadata": {},
   "source": [
    "<img src=\"SVM.PNG\", width=300, height=300>"
   ]
  },
  {
   "cell_type": "code",
   "execution_count": 71,
   "metadata": {
    "scrolled": false
   },
   "outputs": [
    {
     "data": {
      "text/plain": [
       "LinearDiscriminantAnalysis(n_components=None, priors=None, shrinkage=None,\n",
       "              solver='svd', store_covariance=False, tol=0.0001)"
      ]
     },
     "execution_count": 71,
     "metadata": {},
     "output_type": "execute_result"
    }
   ],
   "source": [
    "from sklearn.discriminant_analysis import LinearDiscriminantAnalysis\n",
    "lda = LinearDiscriminantAnalysis()\n",
    "lda.fit(train[['bone_length', 'rotting_flesh', 'hair_length', 'has_soul', 'color']],train['type'])"
   ]
  },
  {
   "cell_type": "markdown",
   "metadata": {},
   "source": [
    "se crea una lista con las varianzas, a fin de evlauar la cantidad de componentes a utilizar"
   ]
  },
  {
   "cell_type": "code",
   "execution_count": 72,
   "metadata": {
    "collapsed": true
   },
   "outputs": [],
   "source": [
    "lda_var_ratios = lda.explained_variance_ratio_"
   ]
  },
  {
   "cell_type": "code",
   "execution_count": 73,
   "metadata": {
    "collapsed": true
   },
   "outputs": [],
   "source": [
    "def select_n_components(var_ratio, goal_var: float) -> int:\n",
    "    total_variance = 0.0\n",
    "    n_components = 0\n",
    "    for explained_variance in var_ratio:\n",
    "        total_variance += explained_variance\n",
    "        n_components += 1\n",
    "        if total_variance >= goal_var:\n",
    "            break\n",
    "    return n_components"
   ]
  },
  {
   "cell_type": "code",
   "execution_count": 74,
   "metadata": {},
   "outputs": [
    {
     "data": {
      "text/plain": [
       "2"
      ]
     },
     "execution_count": 74,
     "metadata": {},
     "output_type": "execute_result"
    }
   ],
   "source": [
    "select_n_components(lda_var_ratios, 0.99)"
   ]
  },
  {
   "cell_type": "markdown",
   "metadata": {},
   "source": [
    "La función nos arroja que para un umbral del 99% la cantidad de componentes es igual a 1 explicada por la varianza, lo cual confirma que el parametro es correcto en su elección."
   ]
  },
  {
   "cell_type": "code",
   "execution_count": 75,
   "metadata": {},
   "outputs": [
    {
     "data": {
      "text/plain": [
       "LinearDiscriminantAnalysis(n_components=1, priors=None, shrinkage=None,\n",
       "              solver='svd', store_covariance=False, tol=0.0001)"
      ]
     },
     "execution_count": 75,
     "metadata": {},
     "output_type": "execute_result"
    }
   ],
   "source": [
    "from sklearn.discriminant_analysis import LinearDiscriminantAnalysis\n",
    "lda = LinearDiscriminantAnalysis(n_components=1)\n",
    "lda.fit(train[['bone_length', 'rotting_flesh', 'hair_length', 'has_soul', 'color']],train['type'])"
   ]
  },
  {
   "cell_type": "code",
   "execution_count": 77,
   "metadata": {
    "collapsed": true
   },
   "outputs": [],
   "source": [
    "pred6 = lda.predict(test[['bone_length', 'rotting_flesh', 'hair_length', 'has_soul', 'color']])\n",
    "pred6 = pd.DataFrame(pred6)\n",
    "pred6.columns = ['type']\n",
    "pred6 = pred6.type.map({1:'Ghoul', 2:'Goblin', 3:'Ghost'})\n",
    "Submission6 = test\n",
    "Submission6['type'] = pred6\n",
    "Submission6 = Submission6.drop('bone_length', axis=1)\n",
    "Submission6 = Submission6.drop('rotting_flesh', axis=1)\n",
    "Submission6 = Submission6.drop('hair_length', axis=1)\n",
    "Submission6 = Submission6.drop('has_soul', axis=1)\n",
    "Submission6 = Submission6.drop('color', axis=1)\n",
    "import pandas as pd\n",
    "Submission6.to_csv('Submission6.csv',  index = False)"
   ]
  },
  {
   "cell_type": "markdown",
   "metadata": {},
   "source": [
    "Se sube el archivo de predicción a la plataforma Kaggle para su evaluación, y se obtiene una puntación de 0.74480\n",
    "\n",
    "<img src=\"Submission6.png\">"
   ]
  },
  {
   "cell_type": "markdown",
   "metadata": {},
   "source": [
    "## Análisis de resultados y conclusiones"
   ]
  },
  {
   "cell_type": "markdown",
   "metadata": {
    "collapsed": true
   },
   "source": [
    "A continuación se muestra el resumen de los modelos aplicados:"
   ]
  },
  {
   "cell_type": "markdown",
   "metadata": {
    "collapsed": true
   },
   "source": [
    "<img src=\"ResumenModelos.PNG\", width=400, height=400>"
   ]
  },
  {
   "cell_type": "markdown",
   "metadata": {
    "collapsed": true
   },
   "source": [
    "Se puede observar que el resultado de un solo árbol de decisión es bajo, dado que en general son malos predictores. Sin embargo al realizar un random forest el desempeño del modelo mejora, y llega a un 0,69."
   ]
  },
  {
   "cell_type": "markdown",
   "metadata": {},
   "source": [
    "El mejor modelo fue un Linear Discriminant Analisis con un desempeño de 0,74."
   ]
  }
 ],
 "metadata": {
  "kernelspec": {
   "display_name": "Python 3",
   "language": "python",
   "name": "python3"
  },
  "language_info": {
   "codemirror_mode": {
    "name": "ipython",
    "version": 3
   },
   "file_extension": ".py",
   "mimetype": "text/x-python",
   "name": "python",
   "nbconvert_exporter": "python",
   "pygments_lexer": "ipython3",
   "version": "3.6.1"
  }
 },
 "nbformat": 4,
 "nbformat_minor": 2
}
